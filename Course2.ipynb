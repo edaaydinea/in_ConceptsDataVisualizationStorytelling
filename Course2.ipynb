{
 "cells": [
  {
   "cell_type": "markdown",
   "metadata": {},
   "source": [
    "# Introduction"
   ]
  },
  {
   "cell_type": "markdown",
   "metadata": {},
   "source": [
    "## Choose widely\n",
    "\n",
    "- **Identify the three KWYs**: Learn to pinpoint the key ideas you're trying to communicate with your data.\n",
    "- **Chart Categories**: Understand the seven types of chart categories and when to use each.\n",
    "- **Alternatives to Standard Charts**: Discover how to determine when to use alternatives to standard bar charts.\n",
    "- **Advantages and Disadvantages of Donut Charts**: Analyze the pros and cons of using donut charts for data display.\n",
    "- **Effective Charts for Correlation**: Identify the most effective charts to show the correlation between variables.\n",
    "- **Cumulative Charts**: Learn when it is most effective to use cumulative charts.\n"
   ]
  },
  {
   "cell_type": "markdown",
   "metadata": {},
   "source": [
    "## What you should know\n",
    "\n",
    "- **No Specific Skills Required**: You don't need any specific technical skills or deep data analysis knowledge to take this course.\n",
    "- **Focus on Communication**: The course is designed for people who need to communicate data effectively, not just for data scientists or statisticians.\n",
    "- **Benefit for Data-Centric Roles**: Even if you are in a data-centric role, you'll gain insights on thinking like a communicator when choosing visualizations.\n"
   ]
  },
  {
   "cell_type": "markdown",
   "metadata": {},
   "source": [
    "# 1. Getting to KWYRWTS"
   ]
  },
  {
   "cell_type": "markdown",
   "metadata": {},
   "source": [
    "## What are KWYs?\n",
    "\n",
    "- **KWYDIS**: Know what your data is saying. Understand the facts and the message your data conveys.\n",
    "- **KWYANTH**: Know what your audience needs to hear. Tailor your communication to the audience's knowledge level and needs.\n",
    "- **KWYRWTS**: Know what you really want to say. Focus on the most important point you want to communicate to avoid confusing or boring your audience."
   ]
  },
  {
   "cell_type": "markdown",
   "metadata": {},
   "source": [
    "## Getting to KWYs\n",
    "\n",
    "**KWYs**: These are the key things you need to focus on when creating a data visualization. They include:\n",
    "\n",
    "- **What your data is saying**: Understand the main message your data is trying to communicate.\n",
    "- **What your audience needs to hear**: Think about what your audience needs to know and how they understand information.\n",
    "- **What you really want to say**: Focus on the most important point you want to make.\n",
    "\n",
    "**Prioritize**: You can't show everything in one chart. Focus on the most important information.\n",
    "\n",
    "**Ask Questions**: Pretend you know nothing and ask basic questions like \"Why are we showing this data?\" and \"Who is this for?\" This helps you narrow down what's important.\n",
    "\n",
    "**Refine Your Focus**: Keep asking questions until you get to the core message you need to communicate.\n",
    "\n",
    "**Design Impact**: Your KWYs will guide not just your chart choice but also how you design and label it to make the message clear.\n",
    "\n"
   ]
  }
 ],
 "metadata": {
  "language_info": {
   "name": "python"
  }
 },
 "nbformat": 4,
 "nbformat_minor": 2
}
