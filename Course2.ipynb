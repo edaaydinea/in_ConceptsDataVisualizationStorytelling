{
 "cells": [
  {
   "cell_type": "markdown",
   "metadata": {},
   "source": [
    "# Introduction"
   ]
  },
  {
   "cell_type": "markdown",
   "metadata": {},
   "source": [
    "## Choose widely\n",
    "\n",
    "- **Identify the three KWYs**: Learn to pinpoint the key ideas you're trying to communicate with your data.\n",
    "- **Chart Categories**: Understand the seven types of chart categories and when to use each.\n",
    "- **Alternatives to Standard Charts**: Discover how to determine when to use alternatives to standard bar charts.\n",
    "- **Advantages and Disadvantages of Donut Charts**: Analyze the pros and cons of using donut charts for data display.\n",
    "- **Effective Charts for Correlation**: Identify the most effective charts to show the correlation between variables.\n",
    "- **Cumulative Charts**: Learn when it is most effective to use cumulative charts.\n"
   ]
  },
  {
   "cell_type": "markdown",
   "metadata": {},
   "source": [
    "## What you should know\n",
    "\n",
    "- **No Specific Skills Required**: You don't need any specific technical skills or deep data analysis knowledge to take this course.\n",
    "- **Focus on Communication**: The course is designed for people who need to communicate data effectively, not just for data scientists or statisticians.\n",
    "- **Benefit for Data-Centric Roles**: Even if you are in a data-centric role, you'll gain insights on thinking like a communicator when choosing visualizations.\n"
   ]
  },
  {
   "cell_type": "markdown",
   "metadata": {},
   "source": [
    "# 1. Getting to KWYRWTS"
   ]
  },
  {
   "cell_type": "markdown",
   "metadata": {},
   "source": [
    "## What are KWYs?\n",
    "\n",
    "- **KWYDIS**: Know what your data is saying. Understand the facts and the message your data conveys.\n",
    "- **KWYANTH**: Know what your audience needs to hear. Tailor your communication to the audience's knowledge level and needs.\n",
    "- **KWYRWTS**: Know what you really want to say. Focus on the most important point you want to communicate to avoid confusing or boring your audience."
   ]
  },
  {
   "cell_type": "markdown",
   "metadata": {},
   "source": [
    "## Getting to KWYs\n",
    "\n",
    "**KWYs**: These are the key things you need to focus on when creating a data visualization. They include:\n",
    "\n",
    "- **What your data is saying**: Understand the main message your data is trying to communicate.\n",
    "- **What your audience needs to hear**: Think about what your audience needs to know and how they understand information.\n",
    "- **What you really want to say**: Focus on the most important point you want to make.\n",
    "\n",
    "**Prioritize**: You can't show everything in one chart. Focus on the most important information.\n",
    "\n",
    "**Ask Questions**: Pretend you know nothing and ask basic questions like \"Why are we showing this data?\" and \"Who is this for?\" This helps you narrow down what's important.\n",
    "\n",
    "**Refine Your Focus**: Keep asking questions until you get to the core message you need to communicate.\n",
    "\n",
    "**Design Impact**: Your KWYs will guide not just your chart choice but also how you design and label it to make the message clear.\n",
    "\n"
   ]
  },
  {
   "cell_type": "markdown",
   "metadata": {},
   "source": [
    "# 2. The Standards"
   ]
  },
  {
   "cell_type": "markdown",
   "metadata": {},
   "source": [
    "## Chart categories\n",
    "\n",
    "- Chart Categories: The video categorizes charts into several primary types: Comparisons, Trends, Proportions, Relationships, Distribution, Deviation, and Geographic.\n",
    "\n",
    "- Purpose of Each Category:\n",
    "  - Comparisons: Used to compare full values or rankings.\n",
    "  - Trends: Show changes over time.\n",
    "  - Proportions: Display relative market share or part-to-whole values.\n",
    "  - Relationships: Express correlations or connections between values.\n",
    "  - Distribution: Show frequency and circumstances of values in a dataset.\n",
    "  - Deviation: Focus on variation from a starting point.\n",
    "  - Geographic: Represent data with a spatial or geographic component.\n",
    "- Translation: Chart picking often involves translating terms like \"share of\" or \"segmentation\" into appropriate chart categories to find the right visual representation."
   ]
  },
  {
   "cell_type": "markdown",
   "metadata": {},
   "source": [
    "## Comparisons: Bars and columns\n",
    "\n",
    "- Popularity of Bar Charts: Bar charts are one of the oldest and most commonly used chart types, dating back over 230 years. They became especially popular with the rise of visual data in general publications in the 1980s.\n",
    "- Effectiveness: Bar charts are effective because humans are naturally good at comparing the areas of rectangles, making it easy to compare values visually.\n",
    "- Comparison Types: Bar charts are ideal for comparing specific values across different categories, not just rankings. They help in understanding both the rank and the actual values of the data.\n"
   ]
  },
  {
   "cell_type": "markdown",
   "metadata": {},
   "source": [
    "## Comparisons: Beyond bars\n",
    "\n",
    "- **Lollipop Chart**: Similar to a bar chart but with a circle at the end of a line. It reduces visual clutter and highlights the actual values.\n",
    "- **Dot Plot**: Consists of dots without lines, useful for showing clusters and trends when dots are aligned.\n",
    "- **Bubble Chart**: Uses circles instead of bars. Visually appealing but can be challenging for accurate size comparison.\n",
    "- **Isotypes**: Uses icons to represent data. Effective for whole numbers but should be used sparingly.\n",
    "- **Grouped Bars**: Multiple bars grouped together to compare several variables. Effective but can become confusing with too many variables.\n",
    "- **Small Multiples**: A series of small charts placed side by side, ideal for comparing complex data across categories or variables.\n",
    "- **Bullet Chart**: Provides detailed information on a single variable, showing ranges like good, better, best, and comparisons to past performance."
   ]
  },
  {
   "cell_type": "markdown",
   "metadata": {},
   "source": [
    "## Trends: Line charts\n",
    "\n",
    "- **Line Charts:** These are used to show how data changes over time. Imagine plotting points on a graph and connecting them with a line to see the trend.\n",
    "- **Trends vs. Snapshots:** If you want to show how something changes over time (like sales going up or down), a line chart is great. If you want to show specific values at certain times (like sales on January 1st each year), a bar chart might be better.\n",
    "- **Multiple Lines:** You can have more than one line on a chart to compare different trends. Even if there are many lines, you can still make sense of the overall trend.\n",
    "- **Sparklines:** These are tiny line charts that show trends without detailed scales. They are useful for a quick view of trends.\n",
    "- **Choosing the Right Chart:** Use a line chart to show overall changes over time. Use bar charts for specific values at different times."
   ]
  },
  {
   "cell_type": "markdown",
   "metadata": {},
   "source": [
    "## Trends: Beyond the line\n",
    "\n",
    "- **Slopegraph:** This is a simple line chart with only two data points, showing the start and end values. It's great for highlighting overall change over a period.\n",
    "- **Bump Chart:** This shows changes in rank over time. It doesn't show the actual values, just the rank positions (e.g., moving from 1st to 3rd place).\n",
    "- **Fan Chart:** Used for showing real data up to a point and then different future scenarios (best case, worst case, average).\n",
    "- **Area Chart:** Similar to a line chart but fills the area below the line. It emphasizes the total shape and can show cumulative data.\n",
    "- **Streamgraph:** This shows changes over time and can also indicate distribution or proportions. It can be harder to read but is effective with good labeling.\n",
    "- **X and Y Axis:** Time is usually on the X-axis (horizontal) because it's a standard practice. The cause (independent variable) goes on the X-axis, and the effect (dependent variable) goes on the Y-axis (vertical)."
   ]
  },
  {
   "cell_type": "markdown",
   "metadata": {},
   "source": [
    "## Proportions: Pie charts and more\n",
    "\n",
    "- **Pie Charts:** They are commonly used to show proportions but have limitations. While that are visually  appealing, humans struggle to accurately judge the size of pie slices, especially when comparing them.\n",
    "- **Rectangles vs. Circles:** Rectangular shapes are easier for people to compare accurately than circular shapes. If precision is needed, consider using bar charts instead of pie charts.\n",
    "- **Donut Charts:** These are similar to pie charts but come with additional challenges. The outer segments of donut charts can appear smaller due to optical illusions, making them less reliable for accurate comparisons."
   ]
  },
  {
   "cell_type": "markdown",
   "metadata": {},
   "source": [
    "## Proportions: Beyond the circle\n",
    "\n",
    "- **Stacked Bars and Columns:** Imagine a bar divided into segments to show different parts of a whole. If you stack several bars together, you can see both the total values and the parts within each bar.\n",
    "- **100% Stacked Bars:** Instead of showing actual values, these bars show percentages. Each bar is the same length, representing 100%, and the segments within show the proportion of each part.\n",
    "- **Stacked Area Charts:** Similar to stacked bars but used over time. They show how different parts of a whole change over time.\n",
    "- **Treemaps:** Think of a treemap as a rectangular pie chart. It uses rectangles to show proportions, and we are good at comparing the areas of rectangles.\n",
    "- **Marimekko Charts:** These show two dimensions of data at once. Each column is like a 100% stacked bar, and the width of the columns shows the actual values.\n",
    "- **Isotypes or Pictograms:** These use images or icons to represent data. For example, if you're showing the proportion of dogs with fur vs. hair, you could use dog icons to make it visually engaging.\n"
   ]
  },
  {
   "cell_type": "markdown",
   "metadata": {},
   "source": [
    "## Relationships: Correlation\n",
    "\n",
    "- **Correlation:** This shows how two things are related. For example, as you climb higher on a mountain, the temperature drops. This is a negative correlation.\n",
    "- **Line Chart:** If you have one set of data points (like temperature at different altitudes), you can connect them with a line to show the trend.\n",
    "- **Scatter Plot:** When you have many data points (like temperatures from different mountains), you use dots to show each point. Adding a trend line helps show the overall pattern.\n",
    "- **Heat Map:** This uses colors to show data. For example, a grid with colors can show temperature changes at different altitudes.\n",
    "- **Bubble Chart:** If you have three variables (like altitude, temperature, and oxygen), you can use a scatter plot where the size of the dots represents the third variable.\n",
    "- **Radar Chart:** This shows multiple variables in a circular format but can be hard to read with lots of data.\n",
    "- **Parallel Coordinates:** This lays out multiple variables side by side, making it easier to see how they relate."
   ]
  },
  {
   "cell_type": "markdown",
   "metadata": {},
   "source": [
    "## Relationships: Hierarchical and network\n",
    "\n",
    "Hierarchical Relationships\n",
    "- **Org Chart (Tree Diagram):** Think of this like a family tree. It shows who reports to whom in a company. It's easy to understand because it's a classic way to show hierarchy.\n",
    "- **Circle Packing:** Imagine a bunch of circles inside a big circle. The big circle is like a parent, and the smaller circles inside are the children. This method saves space but can be harder to read because there's less room for labels.\n",
    "- **Sunburst:** Picture a pie chart, but with layers. Each layer represents a level in the hierarchy, and the size of each slice shows its importance. It looks nice and can show proportions well, but might take some time to understand.\n",
    "\n",
    "Network Relationships\n",
    "- **Node-Link Diagram (Hairball):** Visualize a bunch of dots (nodes) connected by lines (links). It's like a messy web showing how things are connected. It can be confusing but sometimes it's the only way to show complex relationships.\n",
    "- **Hive Plot:** An alternative to the hairball, it organizes the data in a cleaner way, making it easier to see patterns."
   ]
  },
  {
   "cell_type": "markdown",
   "metadata": {},
   "source": [
    "## Relationshios: Flow\n",
    "\n",
    "Visualizing Flow Relationships\n",
    "1. **Flow Diagrams:**\n",
    "   - **Definition:** These diagrams show the progression from one point to another, often indicating a time-based or cause-and-effect relationship.\n",
    "   - **Typical Visuals:** Nodes (decision points or results) connected by lines showing the flow.\n",
    "2. **Arc Diagrams:**\n",
    "   - **Definition:** These diagrams depict connections between nodes over time, such as repeated phrases in a book.\n",
    "   - **Typical Visuals:** Arcs connecting nodes on a timeline.\n",
    "3. **Gantt Charts:**\n",
    "   - **Definition:** Standard in project management to show tasks and timelines.\n",
    "   - **Typical Visuals:** Overlapping rectangles on a shared X-axis with categories on the Y-axis.\n",
    "4. **Waterfall Charts:**\n",
    "   - **Definition:** Show cumulative effects, such as income and expenses leading to profit.\n",
    "    - **Typical Visuals:** Stacked bar chart with separated objects to show cumulative effects, including negative values.\n",
    "5. **Sankey Diagrams:**\n",
    "   - **Definition:** Communicate flows and the proportional size of those flows from one point to another.\n",
    "   - **Typical Visuals:** Nodes with links of varying thickness to show the volume of flow.\n",
    "6. **Key Considerations:**\n",
    "   - **Purpose:** Determine if you are emphasizing correlation, hierarchy, or flow.\n",
    "   - **Proportionality:** Decide if proportionality needs to be included.\n",
    "   - **Focus:** Identify whether the emphasis is on the nodes or the links between them.\n",
    "   - **Volume vs. Direction:** Consider if the focus is on the volume of connections or the direction of those connections.\n",
    "\n",
    "**Practical Application**\n",
    "In your field of data science, visualizing flow can be crucial for understanding processes like data pipelines, machine learning workflows, or even user journey maps. For example, a Sankey Diagram could help illustrate how data flows through different stages of a machine learning model, showing the volume of data at each stage.\n"
   ]
  },
  {
   "cell_type": "markdown",
   "metadata": {},
   "source": [
    "## Distribution: Histograms\n",
    "\n",
    "### What is a Distribution Visualization?\n",
    "- **Purpose:** To show how data is spread out or distributed across different values.\n",
    "- **Example:** Think of a bell curve that shows how test scores are spread out among students.\n",
    "\n",
    "### What is a Histogram?\n",
    "- **Definition:** A chart that uses bars (called bins) to show the number of data points that fall within certain ranges.\n",
    "- **Example:** For test scores from 0 to 100, a histogram might have bins for scores 0-10, 11-20, etc., showing how many students scored within each range.\n",
    "\n",
    "### Key Points\n",
    "#### Bell Curve vs. Histogram\n",
    "- **Bell Curve:** A smooth, curved line that shows the overall distribution of data.\n",
    "- **Histogram:** Uses bars to show specific counts of data points within each range.\n",
    "\n",
    "#### Why Use a Histogram?\n",
    "- To see how data is spread out.\n",
    "- To identify patterns, like most students scoring in the middle range.\n",
    "\n",
    "#### Difference from a Column Chart\n",
    "- **Histogram:** Bars are close together to show continuous data.\n",
    "- **Column Chart:** Bars are separate to show distinct categories.\n",
    "\n",
    "### Simplified Example\n",
    "- **Bell Curve:** Imagine a hill where most people are in the middle, and fewer people are at the top or bottom.\n",
    "- **Histogram:** Think of a bar graph where each bar shows how many people are in each part of the hill.\n"
   ]
  },
  {
   "cell_type": "markdown",
   "metadata": {},
   "source": [
    "## Distribution: Beyond histograms\n",
    "\n",
    "### Different Ways to Show Data Distribution\n",
    "\n",
    "#### Violin Plot\n",
    "- **What it is:** Imagine a bell curve that's mirrored and filled in, showing the distribution of data on both sides of a central line.\n",
    "- **Why use it:** It shows detailed distribution within each category, like a histogram within a histogram.\n",
    "\n",
    "#### Box Plot (Box and Whiskers)\n",
    "- **What it is:** A box shows the middle 50% of data, with lines (whiskers) extending to show the range.\n",
    "- **Why use it:** It highlights the spread and concentration of data, making it easy to see medians and outliers.\n",
    "\n",
    "#### Dot Plot\n",
    "- **What it is:** Dots represent individual data points, often stacked to show frequency.\n",
    "- **Why use it:** It shows every data point, making it clear how data is distributed.\n",
    "\n",
    "#### Swarm Plot\n",
    "- **What it is:** Similar to a dot plot, but dots are spread out to avoid overlap.\n",
    "- **Why use it:** It makes each data point visible without crowding.\n",
    "\n",
    "\n",
    "#### Stem and Leaf Plot\n",
    "- **What it is:** Numbers are used instead of dots or bars, showing individual values within categories.\n",
    "- **Why use it:**  It combines the detail of a dot plot with the structure of a histogram.\n",
    "\n",
    "### Key Takeaway\n",
    "Each of these charts offers a unique way to visualize data distribution, helping you choose the best one based on your data and the message you want to communicate.\n"
   ]
  },
  {
   "cell_type": "markdown",
   "metadata": {},
   "source": [
    "## Deviation\n",
    "Let's simplify the concepts from the \"Deviation\" video:\n",
    "\n",
    "### Understanding Deviation Charts\n",
    "\n",
    "1. **Purpose:**\n",
    "- **Deviation Charts:** These charts show how much values change from a norm, average, or target.\n",
    "\n",
    "2. **Types of Deviation Charts:**\n",
    "- **Diverging Bar Chart:** Focuses on the change between periods (e.g., quarterly sales). Positive and negative changes are highlighted.\n",
    "- **Slope Graph:** Shows changes over time with lines indicating increases or decreases.\n",
    "- **Indexed Bar Chart:** Compares performance against a target, making it easy to see how values deviate from the goal.\n",
    "\n",
    "3. **Key Points:**\n",
    "- **Emphasis on Change:** Deviation charts highlight changes rather than absolute values.\n",
    "- **Labeling:** Clear labels are crucial to ensure the audience understands the story the chart is telling.\n",
    "- **Avoiding Misleading Charts:** Always start the y-axis at zero to avoid misleading the audience.\n",
    "\n",
    "**Simplified Example:**\n",
    "- **Diverging Bar Chart:** Imagine you have sales data for two years. Instead of showing total sales, you show how much sales increased or decreased each quarter.\n",
    "- **Slope Graph:** Think of a line chart where the slope of the line shows whether sales are going up or down over time.\n",
    "- **Indexed Bar Chart:** Picture a bar chart where the center line is the sales target, and bars show how much sales are above or below that target.\n",
    "\n",
    "**Key Takeaway:**\n",
    "- Deviation charts are great for highlighting changes and differences from a norm or target, making it easier to understand trends and performance.\n",
    "\n"
   ]
  },
  {
   "cell_type": "markdown",
   "metadata": {},
   "source": [
    "## Geographic\n",
    "\n",
    "- **Maps as Effective Tools:** Maps are powerful for visualizing geographic data due to their strong cultural connection and ease of interpretation.\n",
    "- **Types of Maps:**\n",
    "  - **Point Map:** Simple markers for locations.\n",
    "  - **Proportional Symbol Map:** Uses symbols like bars or bubbles to show quantity at different locations.\n",
    "  - **Choropleth Map:** Uses color to show data within geographic boundaries like states.\n",
    "  - **Cartogram:** Resizes regions based on data, useful if the audience knows the shapes well.\n",
    "  - **Flow Map:** Shows movement like imports/exports or migration.\n",
    "  - **Isopleth Map:** Common in weather maps, shows data concentrations without strict geographic boundaries.\n",
    "- **Choosing the Right Map:** Select a map type based on the specificity of your data, audience familiarity with the geography, and whether regional trends are important."
   ]
  },
  {
   "cell_type": "markdown",
   "metadata": {},
   "source": [
    "# 3. Beyond the Standards"
   ]
  },
  {
   "cell_type": "markdown",
   "metadata": {},
   "source": [
    "## To cumulative or not cumulative?\n",
    "\n",
    "### Cumulative vs. Regular Charts\n",
    "- **Regular Line Chart:**\n",
    "  - **What it shows:** Data points over time, like sales each month.\n",
    "  - **Example:** You see the ups and downs of sales every month.\n",
    "- **Cumulative Line Chart:**\n",
    "  - **What it shows:** Total accumulation over time, like total sales up to each month.\n",
    "  - **Example:** You see a steady increase showing total sales growth, not the monthly ups and downs.\n",
    "\n",
    "### When to Use Each:\n",
    "- **Regular Line Chart:** Use when you want to see the changes or trends in individual periods (e.g., monthly sales variations).\n",
    "- **Cumulative Line Chart:** Use when you want to emphasize overall growth or total accumulation (e.g., total sales over a year).\n",
    "\n",
    "### Combining Charts:\n",
    "- **Dual Axis Chart:** Combines both cumulative and regular charts but can be confusing.\n",
    "- **Alternative:** Show two separate charts or create a ratio to simplify."
   ]
  },
  {
   "cell_type": "markdown",
   "metadata": {},
   "source": [
    "## Outside the box\n",
    "\n",
    "### Going Outside the Box in Data Visualization\n",
    "- **Thinking Differently:**\n",
    "  - **Standard Charts:** Often, we stick to familiar charts like bar graphs or line charts.\n",
    "  - **Outside the Box:** Sometimes, using unconventional charts can reveal new insights.\n",
    "- **Example 1: Transportation Safety:**\n",
    "  - **Standard Chart:** A basic chart showing vehicle miles driven and traffic fatalities.\n",
    "  - **Innovative Chart:** The New York Times used a scatterplot with time represented by dot labels instead of on the x-axis. This unusual approach highlighted interesting patterns, like the impact of the 1970s oil crisis on driving and fatalities.\n",
    "- **Benefits of Unconventional Charts:**\n",
    "  - **Revealing Patterns:** Non-standard charts can uncover trends and correlations that standard charts might miss.\n",
    "  - **Engaging the Audience:** These charts can make the audience think more deeply about the data, sparking curiosity and deeper understanding.\n",
    "- **Example 2: Density Contour Plot:**\n",
    "  - **Weather Radar Analogy:** Just like weather maps show rainfall density, a density contour plot shows data concentration.\n",
    "  - **Simplified Visualization:** Instead of plotting millions of individual data points, this chart type shows where data points are densely packed, making it easier to see overall trends.\n",
    "\n",
    "### Key Takeaways:\n",
    "- **Experimentation:** Don't be afraid to try different chart types. Sketch ideas on a whiteboard and see if they make sense.\n",
    "- **Audience Understanding:** Test your charts on someone who isn't data-savvy. If they understand, you've likely succeeded.\n",
    "- **Inspiration:** Look at how others visualize data to find creative solutions.\n",
    "\n",
    "### Simplified Example:\n",
    "- **Scatterplot with Time as Dots:** Imagine plotting years as dots on a scatterplot instead of a timeline. This might feel strange but can show unique patterns.\n",
    "- **Density Contour Plot:** Think of it like a heat map showing where most data points are concentrated, rather than plotting every single point.\n"
   ]
  }
 ],
 "metadata": {
  "language_info": {
   "name": "python"
  }
 },
 "nbformat": 4,
 "nbformat_minor": 2
}
