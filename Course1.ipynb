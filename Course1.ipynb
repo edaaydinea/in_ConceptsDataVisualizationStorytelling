{
 "cells": [
  {
   "cell_type": "markdown",
   "metadata": {},
   "source": [
    "# 1. Why storytelling?"
   ]
  },
  {
   "cell_type": "markdown",
   "metadata": {},
   "source": [
    "## Humans are wired for stories\n",
    "\n",
    "* Storytelling is Ancient and Important: Storytelling isn't just a modern trend; it's been crucial for humans since ancient times. Every culture has always told stories because they help us survive and understand the world.\n",
    "\n",
    "* Evolutionary Advantage: Just like we crave certain foods for survival, we crave stories. Stories help us deal with anxiety and learn how to handle challenges. For example, ancient humans would tell stories about hunting to share important information about where to find food and how to stay safe.\n",
    "\n",
    "* Stories and Data: Even when sharing data, like numbers and facts, wrapping it in a story makes it more engaging and easier to understand. For instance, instead of just listing hunting statistics, ancient humans would tell a story about the hunt, making the information memorable and meaningful.\n",
    "\n",
    "* Scientific Support: Research shows that scientists who use storytelling techniques in their reports are cited more often. This means storytelling helps in making scientific information more impactful and widely understood.\n",
    "\n",
    "\n",
    "In essence, humans are naturally inclined to tell and listen to stories because they help us make sense of the world and communicate effectively, even when dealing with data.\n",
    "\n"
   ]
  },
  {
   "cell_type": "markdown",
   "metadata": {},
   "source": [
    "## Data storytelling is essential, except when it's not\n",
    "\n",
    "* Communication is Key: No matter your job, being a good communicator is crucial. Even if you work with data, you need to explain your findings clearly to others.\n",
    "\n",
    "* Stories are Memorable: Stories are much more memorable than plain facts. For example, a story about a poor child giving an apple to a teacher is more impactful than just stating poverty statistics.\n",
    "\n",
    "* Engage the Brain: Stories activate more parts of our brain than plain data, making them more memorable and emotionally engaging.\n",
    "\n",
    "* When Not to Use Stories: Sometimes, you don't need a story. For example, dashboards used by experts for data exploration might not need a narrative. They are tools, not communication devices.\n",
    "\n",
    "* Balanced Approach: Often, the best approach is a mix. Use stories to provide context and direction but allow some interaction with the data for deeper exploration.\n",
    "\n",
    "\n",
    "In essence, storytelling makes data more engaging and memorable, but it's important to know when and how to use it effectively."
   ]
  },
  {
   "cell_type": "markdown",
   "metadata": {},
   "source": [
    "## Using story even when you don't\n",
    "\n",
    "* Think Like a Storyteller: Even if you're just making a simple chart or slide, think about it like a story with a beginning, middle, and end.\n",
    "* Human Nature: People naturally look for stories in everything, so they'll try to find a story in your data.\n",
    "* Design Tips: Use things like headlines and highlights to guide people through your data. These elements help introduce and explain key points.\n",
    "* Reading Order: People might not read your chart or infographic in order, but they'll still piece together the story from different parts.\n",
    "* Be Honest: Make sure your headlines and highlights are truthful and purposeful. They should capture the main points without being misleading.\n",
    "\n",
    "This way, even simple data presentations can be engaging and easy to understand."
   ]
  }
 ],
 "metadata": {
  "language_info": {
   "name": "python"
  }
 },
 "nbformat": 4,
 "nbformat_minor": 2
}
