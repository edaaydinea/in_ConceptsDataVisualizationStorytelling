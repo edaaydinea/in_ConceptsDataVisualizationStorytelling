{
 "cells": [
  {
   "cell_type": "markdown",
   "metadata": {},
   "source": [
    "# 1. Why storytelling?"
   ]
  },
  {
   "cell_type": "markdown",
   "metadata": {},
   "source": [
    "## Humans are wired for stories\n",
    "\n",
    "* Storytelling is Ancient and Important: Storytelling isn't just a modern trend; it's been crucial for humans since ancient times. Every culture has always told stories because they help us survive and understand the world.\n",
    "\n",
    "* Evolutionary Advantage: Just like we crave certain foods for survival, we crave stories. Stories help us deal with anxiety and learn how to handle challenges. For example, ancient humans would tell stories about hunting to share important information about where to find food and how to stay safe.\n",
    "\n",
    "* Stories and Data: Even when sharing data, like numbers and facts, wrapping it in a story makes it more engaging and easier to understand. For instance, instead of just listing hunting statistics, ancient humans would tell a story about the hunt, making the information memorable and meaningful.\n",
    "\n",
    "* Scientific Support: Research shows that scientists who use storytelling techniques in their reports are cited more often. This means storytelling helps in making scientific information more impactful and widely understood.\n",
    "\n",
    "\n",
    "In essence, humans are naturally inclined to tell and listen to stories because they help us make sense of the world and communicate effectively, even when dealing with data.\n",
    "\n"
   ]
  },
  {
   "cell_type": "markdown",
   "metadata": {},
   "source": [
    "## Data storytelling is essential, except when it's not\n",
    "\n",
    "* Communication is Key: No matter your job, being a good communicator is crucial. Even if you work with data, you need to explain your findings clearly to others.\n",
    "\n",
    "* Stories are Memorable: Stories are much more memorable than plain facts. For example, a story about a poor child giving an apple to a teacher is more impactful than just stating poverty statistics.\n",
    "\n",
    "* Engage the Brain: Stories activate more parts of our brain than plain data, making them more memorable and emotionally engaging.\n",
    "\n",
    "* When Not to Use Stories: Sometimes, you don't need a story. For example, dashboards used by experts for data exploration might not need a narrative. They are tools, not communication devices.\n",
    "\n",
    "* Balanced Approach: Often, the best approach is a mix. Use stories to provide context and direction but allow some interaction with the data for deeper exploration.\n",
    "\n",
    "\n",
    "In essence, storytelling makes data more engaging and memorable, but it's important to know when and how to use it effectively."
   ]
  },
  {
   "cell_type": "markdown",
   "metadata": {},
   "source": [
    "## Using story even when you don't\n",
    "\n",
    "* Think Like a Storyteller: Even if you're just making a simple chart or slide, think about it like a story with a beginning, middle, and end.\n",
    "* Human Nature: People naturally look for stories in everything, so they'll try to find a story in your data.\n",
    "* Design Tips: Use things like headlines and highlights to guide people through your data. These elements help introduce and explain key points.\n",
    "* Reading Order: People might not read your chart or infographic in order, but they'll still piece together the story from different parts.\n",
    "* Be Honest: Make sure your headlines and highlights are truthful and purposeful. They should capture the main points without being misleading.\n",
    "\n",
    "This way, even simple data presentations can be engaging and easy to understand."
   ]
  },
  {
   "cell_type": "markdown",
   "metadata": {},
   "source": [
    "# 2. Story Structure"
   ]
  },
  {
   "cell_type": "markdown",
   "metadata": {},
   "source": [
    "## The KWYs\n",
    "\n",
    "1. KWYDIS (Know What Your Data Is Saying):\n",
    "   1. Understand your data thoroughly before trying to communicate it. The better you know your data, the more effectively you can share its story.\n",
    "\n",
    "2. KWYANTH (Know What Your Audience Needs to Hear):\n",
    "   1. Know your audience's needs. Understand what they already know, what they need to know, and how they prefer to receive information. Focus on what they need, not just what they want.\n",
    "\n",
    "3. KWYRWTS (Know What You Really Want to Say):\n",
    "   1. Be clear about your main message. Before communicating, identify the key points you want to convey. Ensure your message is honest and based on the truth in the data.\n",
    "\n",
    "\n",
    "These three principles help balance the truth in the data, the audience's needs, and your message, making your communication more effective."
   ]
  },
  {
   "cell_type": "markdown",
   "metadata": {},
   "source": [
    "## Story components\n",
    "\n",
    "- Story Basics: A story has a beginning, middle, and end. The beginning sets the scene, the middle develops the plot, and the end concludes the story.\n",
    "\n",
    "- Key Elements:\n",
    "  - Plot: What happens in the story.\n",
    "  - Protagonist: The main character affected by the events\n",
    "  - Challenge: The difficult goal the protagonist is trying to achieve\n",
    "  - Transformation: How the protagonist changes by the end of the story\n",
    "\n",
    "- Why Stories Work: Stories are linear and step-by-step, which makes them easy to follow. This mirrors real life and helps us relate to the story.\n",
    "\n",
    "- Linear Flow: Starting at the beginning and moving to a conclusion helps set the context, explain the situation, and resolve any issues by the end."
   ]
  },
  {
   "cell_type": "markdown",
   "metadata": {},
   "source": [
    "## Finding the story in your data\n",
    "\n",
    "1. **Exploring Data**: Start by looking through your data to find interesting patterns or trends. Ask questions and see what stands out.\n",
    "\n",
    "2. **Marvel Example**: The instructor uses Marvel Comics characters to demonstrate data exploration. Attributes like good vs. evil, eye color, and gender are analyzed.\n",
    "\n",
    "3. **Utilize Tools**: Employ tools such as Excel to sort, filter, and visualize data. Pivot tables and charts can help highlight patterns more clearly.\n",
    "\n",
    "4. **Visualization**: Create visual representations of your data (e.g., bar charts) to uncover insights that might not be apparent from raw numbers.\n",
    "\n",
    "5. **Story Focus**: As you analyze, consider the narrative your data is conveying. What is the main message or insight you want to communicate?\n",
    "\n",
    "6. **Iterative Process**: Continue exploring and refining your analysis. The story may evolve as you discover new insights.\n",
    "\n",
    "The key is to remain curious and leverage visual tools to uncover the story hidden within your data."
   ]
  },
  {
   "cell_type": "markdown",
   "metadata": {},
   "source": [
    "## Outlining your story\n",
    "\n",
    "**Purpose:** Before you start designing or developing your data story, you need to organize your ideas to ensure they make sense together.\n",
    "\n",
    "**Outline Structure:** Think of your story as a series of segments or \"buckets\" of content. Each segment focuses on a central idea and can be represented by a simple label or keyword.\n",
    "\n",
    "**Example:** For a Marvel Comics story, you might have segments like \"Universe,\" \"Good vs. Evil,\" and \"Gender and Race.\"\n",
    "\n",
    "**Flow:** Arrange these segments in a logical order that makes sense and flows naturally from one part to the next.\n",
    "\n",
    "**Linear Flow:** Ensure your story has a clear beginning, middle, and end, making it easy for the audience to follow.\n",
    "\n",
    "**Emotion and Engagement:** Try to trigger emotions like humor or surprise to make your story more engaging.\n",
    "\n",
    "In essence, outlining your story helps you organize your data in a way that tells a clear and compelling narrative."
   ]
  },
  {
   "cell_type": "markdown",
   "metadata": {},
   "source": [
    "## Use Your Words\n",
    "\n",
    "1. **Build Your Story with Simple Words**: Outline your data story using straightforward language, as if explaining it to a child.\n",
    "2. **Speak It Out Loud**: Verbalizing your story helps you check its coherence and flow.\n",
    "3. **Elevator Pitch**: Summarize your story in a quick, 30-second pitch. This keeps you focused on the main points without getting bogged down in details.\n",
    "4. **Example**: For a Marvel story, you might say, \"Marvel has more evil characters than good ones, but they appear less frequently and die more often.\" This concise sentence highlights key data points.\n",
    "5. **Focus on Key Ideas**: At this stage, ignore numbers and charts. Concentrate on capturing the main ideas.\n",
    "\n",
    "Using simple words ensures your data story is clear, logical, and easy to understand."
   ]
  },
  {
   "cell_type": "markdown",
   "metadata": {},
   "source": [
    "## Sketching Ideas\n",
    "\n",
    "**Purpose:** Sketching helps you quickly test and refine your ideas before creating final visualizations.\n",
    "\n",
    "**Tools:** Use simple tools like pen and paper, whiteboards, or basic drawing programs. Avoid complex software at this stage.\n",
    "\n",
    "**Process:**\n",
    "- **Trial and Error:** Quickly try different ideas, fail fast, and adjust until you find what works.\n",
    "- **Details:** Sketch the content from your story outline, including charts, text, labels, and colors.\n",
    "\n",
    "**Example:** The instructor sketches a \"Marvel Universe\" story, experimenting with different visual representations to find the best way to show the data.\n",
    "\n",
    "**Iterate:** Keep sketching and refining your ideas to improve your story structure and visuals.\n",
    "\n",
    "In essence, sketching is about experimenting and refining your ideas quickly and efficiently.\n",
    "\n"
   ]
  },
  {
   "cell_type": "markdown",
   "metadata": {},
   "source": [
    "# 3. Story Meachanisms"
   ]
  },
  {
   "cell_type": "markdown",
   "metadata": {},
   "source": [
    "## Change Over Time\n",
    "\n",
    "**Stories and Time:** Stories often follow a timeline because our lives are experienced in a linear way. This makes time-driven stories easy to understand.\n",
    "\n",
    "**Data Over Time:** When telling a data story, look for changes over time. This helps create a clear, linear narrative.\n",
    "\n",
    "**Example:** The video shows a story about oil prices from 1965 to 2018. It explains how prices rose and fell due to events like industrialization in China and India, and the 2008 financial crisis.\n",
    "\n",
    "**Visualization:** Using charts that show data over time can make the story easier to follow. In the example, a scatterplot is used to track oil prices.\n",
    "\n",
    "In essence, using time as a framework helps make data stories clear and relatable."
   ]
  },
  {
   "cell_type": "markdown",
   "metadata": {},
   "source": [
    "## Linear Logic\n",
    "\n",
    "**Single Focus:** Humans can only focus on one thing at a time, so presenting information step-by-step makes it easier to understand.\n",
    "\n",
    "**Linear Logic:** Organize your story in a sequence that makes sense, like steps in a process.\n",
    "\n",
    "**Example:** Instead of just showing events in chronological order, organize them by themes or key points.\n",
    "\n",
    "**Oil Prices Story:** The instructor uses an example of oil prices, showing how you can tell a logical story based on themes like high prices during crises and lower prices afterward.\n",
    "\n",
    "**Connection:** Linear stories help your audience follow along and understand your data better.\n",
    "\n",
    "In essence, using a linear format makes your data story clear and easy to follow."
   ]
  },
  {
   "cell_type": "markdown",
   "metadata": {},
   "source": [
    "## Flow Diagrams\n",
    "\n",
    "**What Are Flow Diagrams?**: Visual tools used to show how things move or change over time. They can represent processes, hierarchies, or proportions.\n",
    "\n",
    "**Historical Example**: The video shows a diagram from 1890 that tracks the top U.S. cities by population over time. It highlights how New York stayed the largest city from 1790 to 1890.\n",
    "\n",
    "**Modern Example**: A Sankey diagram is used to show how petroleum is used in the U.S. It starts with the sources of energy and breaks down how petroleum is consumed.\n",
    "\n",
    "**Why Use Flow Diagrams?**: They help turn complex data into a story that's easy to follow. Instead of using multiple pie charts, a flow diagram can show proportions and changes more effectively.\n",
    "\n",
    "**Key Tip**: When using flow diagrams, ensure they flow logically (usually left to right) and guide the viewer through the story.\n",
    "\n",
    "In essence, flow diagrams are great for visualizing processes and changes, making complex data easier to understand."
   ]
  },
  {
   "cell_type": "markdown",
   "metadata": {},
   "source": [
    "## Compare and Contrast\n",
    "\n",
    "**Core Idea:** Stories often involve comparing and contrasting different elements to highlight changes or differences.\n",
    "\n",
    "**Data Stories:** In data storytelling, you might compare different scenarios, such as \"What if we do nothing?\" versus \"What if we take action?\"\n",
    "\n",
    "**Character Transformation:** Even in data stories, there's usually a \"character\" (like a company or a person) that evolves over time based on the data.\n",
    "\n",
    "**Example:** Al Gore's \"An Inconvenient Truth\" contrasts the current state of climate change with potential future outcomes if behaviors are changed.\n",
    "\n",
    "**Key Tip:** Ensure you're comparing similar elements (apples to apples) to make your data meaningful and accurate.\n",
    "\n",
    "**Fun Example:** A project comparing Google searches for \"Why does my dog...\" versus \"Why does my cat...\" illustrates how people are curious about different behaviors in pets.\n",
    "\n",
    "In essence, comparing and contrasting helps highlight significant differences and changes in your data story."
   ]
  },
  {
   "cell_type": "markdown",
   "metadata": {},
   "source": [
    "## Progressive Depth\n",
    "\n",
    "**Start Simple:** Begin with basic, high-level information to grab attention. This is like a quick chat at the water cooler.\n",
    "\n",
    "**Build Interest:** If people are interested, provide more detailed content, like a short article or video. This is like having a coffee chat.\n",
    "\n",
    "**Deep Dive:** For those who want more, offer in-depth content, like a detailed report or interactive data. This is like going to a research library or lab.\n",
    "\n",
    "**Example:** The instructor uses job trends over time to show how you can start with simple rankings and then dive deeper into more complex data about job changes and salaries.\n",
    "\n",
    "In essence, \"Progressive Depth\" means presenting information in layers, allowing your audience to choose how deep they want to go.\n"
   ]
  },
  {
   "cell_type": "markdown",
   "metadata": {},
   "source": [
    "## Personalization\n",
    "\n",
    "**Narcissism in Storytelling:** People are naturally interested in stories that relate to themselves.\n",
    "\n",
    "**Personal Data Stories:** Make your data story feel personal to your audience, even if it's not their own data.\n",
    "\n",
    "**Example:** Nicholas Felton created annual reports about his own life, tracking things like sleep and travel. This made the data relatable and engaging.\n",
    "\n",
    "**Interactive Example:** A project on Boston's train system lets users personalize the data to see their own commute, making it more relevant and interesting.\n",
    "\n",
    "**Key Tip:** The more you can make your data story about your audience, the more impactful it will be.\n",
    "\n",
    "In essence, personalization makes your data story more engaging by connecting it directly to your audience's experiences."
   ]
  },
  {
   "cell_type": "markdown",
   "metadata": {},
   "source": [
    "## Text Can Tell a Story\n",
    "\n",
    "**Effective Storytelling:** Even without visuals, text alone can effectively tell a data story.\n",
    "\n",
    "**Example:** The Urban Institute uses text to explain wealth inequality. They break it down into nine clear sections, each focusing on a different aspect.\n",
    "\n",
    "**Charts Help, But Aren't Necessary:** While charts and visuals can enhance the story, the text itself is powerful enough to convey the message.\n",
    "\n",
    "**Readability:** Good data stories in text form can be found in newspapers and online articles, like those from \"The New York Times\" or \"Wall Street Journal.\"\n",
    "\n",
    "**Think Like a Journalist:** When writing your data story, aim to be clear and engaging, just like a journalist would.\n",
    "\n",
    "In essence, you can tell a compelling data story using just text, and visuals can make it even better."
   ]
  },
  {
   "cell_type": "markdown",
   "metadata": {},
   "source": [
    "# 4. Final Touches"
   ]
  },
  {
   "cell_type": "markdown",
   "metadata": {},
   "source": [
    "## Labeling\n",
    "\n",
    "**Purpose of Labels:** Labels in charts and graphs help explain what you're looking at and how to understand it.\n",
    "\n",
    "**Minimal Labeling:** Only label the most important parts. Too many labels can make it confusing.\n",
    "\n",
    "**Example:** In a complex visualization of Boston's subway system, only the first and last stations are labeled by default. More details appear when you hover over them.\n",
    "\n",
    "**Interactive Labels:** Some labels change or highlight when you interact with them, making the data clearer.\n",
    "\n",
    "**Key Tip:** Good labels make your data story clear and focused. Spend time to ensure your labels are thoughtful and effective.\n",
    "\n",
    "In essence, use labels wisely to guide your audience through your data story without overwhelming them."
   ]
  },
  {
   "cell_type": "markdown",
   "metadata": {},
   "source": [
    "## Eye candy\n",
    "\n",
    "**Purpose:** Eye candy makes data visualizations interesting and engaging, but it must also be accurate and clear.\n",
    "\n",
    "**Three Purposes:**\n",
    "1. **Engagement:** Keeps the audience interested.\n",
    "2. **Focus:** Draws attention to important parts.\n",
    "3. **Interactivity:** Indicates interactive elements, like clickable objects.\n",
    "\n",
    "**Examples:**\n",
    "- **Dear Data Project:** Artists sent each other creative data sketches, which were visually interesting but needed some explanation.\n",
    "- **Interactive Dashboard:** Uses animations to show data changes, making it engaging without being distracting.\n",
    "\n",
    "**Key Tip:** Use eye candy to enhance your story without compromising accuracy.\n",
    "\n",
    "In essence, eye candy should make your data story engaging and clear, without sacrificing accuracy.\n"
   ]
  },
  {
   "cell_type": "markdown",
   "metadata": {},
   "source": [
    "## Repetition and Redundancy\n",
    "\n",
    "**Simplified Explanation:** Using repetition and redundancy in data storytelling can make your message more memorable.\n",
    "\n",
    "**Message Redundancy:** Present the main message in multiple ways. For example, a chart with a clear title explaining its message is more memorable and understandable.\n",
    "\n",
    "**Data Redundancy:** Show the same data in different forms. For instance, using both text labels and icons in a chart helps people understand the data faster.\n",
    "\n",
    "**Visual Cues:** Use consistent shapes, colors, and chart types throughout your story. This helps your audience learn and remember your data more easily.\n",
    "\n",
    "In essence, repeating your message, data, and visual elements thoughtfully makes your data story clearer and more memorable."
   ]
  },
  {
   "cell_type": "markdown",
   "metadata": {},
   "source": [
    "## Relatability\n",
    "\n",
    "**Make Data Relatable:** When telling data stories, ensure the numbers are easy to understand and connect with your audience.\n",
    "\n",
    "**Example 1:** A scale model of the solar system where the moon is just one pixel. As you scroll, you see the vast distances between planets, making the scale of the solar system more tangible.\n",
    "\n",
    "**Example 2:** An infographic from \"XKCD\" about money. It starts with small amounts, like $1, and scales up to millions and billions. This helps people grasp large numbers by comparing them to everyday amounts.\n",
    "\n",
    "In essence, making data relatable involves presenting it in ways that people can easily understand and connect with."
   ]
  },
  {
   "cell_type": "markdown",
   "metadata": {},
   "source": [
    "## Don't Be Afraid of Complexity\n",
    "\n",
    "**Embrace Complexity:** Sometimes, complex ideas require complex explanations. Don't shy away from complexity if it's necessary to tell the story.\n",
    "\n",
    "**Simplify Elements:** While the overall story can be complex, try to make individual parts as simple as possible.\n",
    "\n",
    "**Example:** A detailed visualization of Boston's subway system shows a lot of data but uses good labeling and zoomed-out views to make it understandable.\n",
    "\n",
    "**Purposeful Complexity:** Ensure that any complexity in your story serves a clear purpose and helps convey the message effectively.\n",
    "\n",
    "In essence, use complexity when needed but always aim to simplify where you can to make the story clear and engaging."
   ]
  }
 ],
 "metadata": {
  "language_info": {
   "name": "python"
  }
 },
 "nbformat": 4,
 "nbformat_minor": 2
}
